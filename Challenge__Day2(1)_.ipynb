{
  "nbformat": 4,
  "nbformat_minor": 0,
  "metadata": {
    "colab": {
      "name": "Challenge__Day2(1)_.ipynb",
      "provenance": [],
      "collapsed_sections": []
    },
    "kernelspec": {
      "name": "python3",
      "display_name": "Python 3"
    },
    "language_info": {
      "name": "python"
    }
  },
  "cells": [
    {
      "cell_type": "markdown",
      "metadata": {
        "id": "zDwep1K8Erxl"
      },
      "source": [
        "**Project:** Data Minining Project for  X company"
      ]
    },
    {
      "cell_type": "code",
      "metadata": {
        "id": "JzIu-UWIDXHw"
      },
      "source": [
        ""
      ],
      "execution_count": null,
      "outputs": []
    },
    {
      "cell_type": "markdown",
      "metadata": {
        "id": "d7-ii3uyI8KY"
      },
      "source": [
        "The CRISP-DM Framework\n",
        "\n",
        "\n",
        "The CRISP-DM methodology provides a structured approach to planning a data mining project. It is a robust and well-proven methodology.\n",
        "* Business understanding (BU): Determine Business Objectives, Assess Situation, Determine Data Mining Goals, Produce Project Plan\n",
        "\n",
        "* Data understanding (DU): Collect Initial Data, Describe Data, Explore Data, Verify Data Quality\n",
        "\n",
        "* Data preparation (DP): Select Data, Clean Data, Construct Data, Integrate Data\n",
        "\n",
        "* Modeling (M): Select modeling technique, Generate Test Design, Build Model, Assess Model\n",
        "*  Evaluation (E): Evaluate Results, Review Process, Determine Next Steps\n",
        "*  Deployment (D): Plan Deployment, Plan Monitoring and Maintenance, Produce Final Report, Review Project\n",
        "\n",
        "\n",
        "References:\n",
        "\n",
        "[What is the CRISP-DM methodology?](https://www.sv-europe.com/crisp-dm-methodology/)\n",
        "\n",
        "[Introduction to CRISP DM Framework for Data Science and Machine Learning](https://www.linkedin.com/pulse/chapter-1-introduction-crisp-dm-framework-data-science-anshul-roy/)"
      ]
    },
    {
      "cell_type": "markdown",
      "metadata": {
        "id": "5lo7Ml7tMQOf"
      },
      "source": [
        "**Data Set**\n",
        "### The data is for company X which is trying to control attrition. \n",
        "### There are two sets of data: \"Existing employees\" and \"Employees who have left\". The following attributes are available for every employee.\n",
        "\n",
        "\n",
        "*   Satisfaction Level\n",
        "\n",
        "*   Last evaluation\n",
        "\n",
        "*   Number of projects\n",
        "\n",
        "*   Average monthly hours\n",
        "\n",
        "*   Time spent at the company\n",
        "*   Whether they have had a work accident\n",
        "\n",
        "\n",
        "*  Whether they have had a promotion in the last 5 years\n",
        "\n",
        "\n",
        "*   Departments (column sales)\n",
        "\n",
        "\n",
        "*   Salary\n",
        "\n",
        "\n",
        "*  Whether the employee has left\n",
        "\n",
        "\n",
        "\n",
        "\n",
        "\n",
        "\n",
        "\n",
        "\n",
        "\n",
        "\n",
        "\n",
        "\n",
        "\n",
        "\n",
        "\n",
        "\n"
      ]
    },
    {
      "cell_type": "markdown",
      "metadata": {
        "id": "sjSj2A2sSph_"
      },
      "source": [
        "**Your Role**\n",
        " \n",
        "\n",
        "*   As data science team member X company asked you to answer this two questions.\n",
        "*  What type of employees is leaving? \n",
        "\n",
        "*   Determine which employees are prone to leave next.\n",
        "\n",
        "\n",
        "\n",
        "\n"
      ]
    },
    {
      "cell_type": "markdown",
      "metadata": {
        "id": "ajdEVA7LiBUp"
      },
      "source": [
        "Business Understanding\n",
        "\n",
        "---\n",
        "\n",
        "This step mostly focuses on understanding the Business in all the different aspects. It follows the below different steps.\n",
        "\n",
        "\n",
        "\n",
        "\n",
        "* Identify the goal and frame the business problem.\n",
        "* Prepare Analytical Goal i.e. what type of performance metric and loss function to use\n",
        "* Gather information on resource, constraints, assumptions, risks etc\n",
        "* Gather information on resource, constraints, assumptions, risks etc\n",
        "*   Prepare Work Flow Chart"
      ]
    },
    {
      "cell_type": "markdown",
      "metadata": {
        "id": "J4MwiCYzj2_u"
      },
      "source": [
        "### Write the main objectives of this project in your words?\n",
        "minimum of 100 characters"
      ]
    },
    {
      "cell_type": "code",
      "metadata": {
        "id": "STyLda45j1Mf"
      },
      "source": [
        "main_objectives =''' The main objective of this project is to analyze and determine the conditions related to employees leaving. \n",
        "                    Determining this relationship will allow why employees are leaving and improve those conditions.'''"
      ],
      "execution_count": 5,
      "outputs": []
    },
    {
      "cell_type": "code",
      "metadata": {
        "id": "CuOlxLxKMOLI"
      },
      "source": [
        "assert len(main_objectives) > 100 \n",
        "### BEGIN HIDDEN TESTS\n",
        "assert len(main_objectives) > 80 \n",
        "### END HIDDEN TESTS"
      ],
      "execution_count": 6,
      "outputs": []
    },
    {
      "cell_type": "markdown",
      "metadata": {
        "id": "NyXeNxlCkbaw"
      },
      "source": [
        "### Outline the different data analysis steps you will follow to carry out the project"
      ]
    },
    {
      "cell_type": "code",
      "metadata": {
        "id": "rC-tl8sUksQq"
      },
      "source": [
        "dm_outline = ''' To analyze the data I will try to understand my data and its\n",
        "                 distribution by using visualization methods and aggregate tools.\n",
        "                 Then I will try to clean, preprocess and normalize the data based\n",
        "                 on my findings. I will also choose the most important features \n",
        "                 from my data, by using dimensionality reduction functions.\n",
        "'''"
      ],
      "execution_count": 235,
      "outputs": []
    },
    {
      "cell_type": "code",
      "metadata": {
        "id": "-K1mWuDoksTk"
      },
      "source": [
        "assert len(dm_outline) > 100 \n",
        "### BEGIN HIDDEN TESTS\n",
        "assert len(dm_outline) > 70 \n",
        "### END HIDDEN TESTS"
      ],
      "execution_count": 236,
      "outputs": []
    },
    {
      "cell_type": "markdown",
      "metadata": {
        "id": "pmUDFG1wkzUy"
      },
      "source": [
        "### What metrics will you use to measure the performance of your data analysis model? \n",
        "Write the equations of the metrics here\n",
        "Precision = $\\frac{TP}{(TP + FP)}$"
      ]
    },
    {
      "cell_type": "markdown",
      "metadata": {
        "id": "KCNulojKk_BP"
      },
      "source": [
        "e.g. Precision = $\\frac{TP}{(TP + FP)}$\n",
        "\n"
      ]
    },
    {
      "cell_type": "markdown",
      "metadata": {
        "id": "vLS2YHoRk_EK"
      },
      "source": [
        "Why do you choose these metrics? minimum of 100 characters"
      ]
    },
    {
      "cell_type": "code",
      "metadata": {
        "id": "LSynT14KlPSJ"
      },
      "source": [
        "why_metrics = ''' I would choose precision because precision tells us the number\n",
        "                  of correct predictions out of the total. And in this case we\n",
        "                  would want to know how many got predicted correctly.\n",
        "\n",
        "'''"
      ],
      "execution_count": 238,
      "outputs": []
    },
    {
      "cell_type": "code",
      "metadata": {
        "id": "yr-Mk0E8lPVJ"
      },
      "source": [
        "assert len(why_metrics) > 100 \n",
        "### BEGIN HIDDEN TESTS\n",
        "assert len(why_metrics) > 80 \n",
        "### END HIDDEN TESTS"
      ],
      "execution_count": 239,
      "outputs": []
    },
    {
      "cell_type": "markdown",
      "metadata": {
        "id": "aAo19Ip6lUtm"
      },
      "source": [
        "### How would you know if your data analysis work is a success or not?\n",
        "minimum of 100 characters"
      ]
    },
    {
      "cell_type": "code",
      "metadata": {
        "id": "HESsiXW5llX-"
      },
      "source": [
        "how_success = ''' I will do multiple evaluations to check if the path I have chosen\n",
        "                  and the requirment objectives i have set are being met. If they\n",
        "                  arenot I will rethink my data analysis process and try again,\n",
        "                  until i get it right.\n",
        "'''"
      ],
      "execution_count": 7,
      "outputs": []
    },
    {
      "cell_type": "code",
      "metadata": {
        "id": "FdUoiMIOlmXq"
      },
      "source": [
        "assert len(how_success) > 100 \n",
        "### BEGIN HIDDEN TESTS\n",
        "assert len(how_success) > 80 \n",
        "### END HIDDEN TESTS"
      ],
      "execution_count": 8,
      "outputs": []
    },
    {
      "cell_type": "markdown",
      "metadata": {
        "id": "DQE6dqo6l1TZ"
      },
      "source": [
        "## What kind of challenges do you expect in your analysis?\n",
        "List at least 3 challenges"
      ]
    },
    {
      "cell_type": "code",
      "metadata": {
        "id": "WrAhBQhQl8Lh"
      },
      "source": [
        "challenge_text = ''' I would think since the data is real life, I would encounter\n",
        "                     challenges with outliers, data dispersion and missing data\n",
        "                     which will need to be cleaned, preprocessed and normalized.\n",
        "                     choosing the most important features would be challenging \n",
        "                     as well because we have multiple features here.  '''"
      ],
      "execution_count": 237,
      "outputs": []
    },
    {
      "cell_type": "code",
      "metadata": {
        "id": "EedHa-Pll8X7"
      },
      "source": [
        "assert len(challenge_text) > 100 \n",
        "### BEGIN HIDDEN TESTS\n",
        "assert len(how_success) > 80 \n",
        "### END HIDDEN TESTS"
      ],
      "execution_count": 10,
      "outputs": []
    },
    {
      "cell_type": "markdown",
      "metadata": {
        "id": "ZcJ8M6uWDeSE"
      },
      "source": [
        "<h2>Using the processed twitter data from yesterday's challenge</h2>.\n",
        "\n",
        "\n",
        "- Form a new data frame (named `cleanTweet`), containing columns $\\textbf{clean-text}$ and $\\textbf{polarity}$.\n",
        "\n",
        "- Write a function `text_category` that takes a value `p` and returns, depending on the value of p, a string `'positive'`, `'negative'` or `'neutral'`.\n",
        "\n",
        "- Apply this function (`text_category`) on the $\\textbf{polarity}$ column of `cleanTweet` in 1 above to form a new column called $\\textbf{score}$ in `cleanTweet`.\n",
        "\n",
        "- Visualize The $\\textbf{score}$ column using piechart and barchart\n",
        "\n",
        "<h5>Now we want to build a classification model on the clean tweet following the steps below:</h5>\n",
        "\n",
        "* Remove rows from `cleanTweet` where $\\textbf{polarity}$ $= 0$ (i.e where $\\textbf{score}$ = Neutral) and reset the frame index.\n",
        "* Construct a column $\\textbf{scoremap}$ Use the mapping {'positive':1, 'negative':0} on the $\\textbf{score}$ column\n",
        "* Create feature and target variables `(X,y)` from $\\textbf{clean-text}$ and $\\textbf{scoremap}$ columns respectively.\n",
        "* Use `train_test_split` function to construct `(X_train, y_train)` and `(X_test, y_test)` from `(X,y)`\n",
        "\n",
        "* Build an `SGDClassifier` model from the vectorize train text data. Use `CountVectorizer()` with a $\\textit{trigram}$ parameter.\n",
        "\n",
        "* Evaluate your model on the test data.\n"
      ]
    },
    {
      "cell_type": "code",
      "metadata": {
        "colab": {
          "base_uri": "https://localhost:8080/"
        },
        "id": "mA66-YPkVtBm",
        "outputId": "1a859eb3-b359-4289-d4df-caeffbaf5433"
      },
      "source": [
        "from google.colab import drive\n",
        "drive.mount('/content/drive')"
      ],
      "execution_count": 11,
      "outputs": [
        {
          "output_type": "stream",
          "text": [
            "Mounted at /content/drive\n"
          ],
          "name": "stdout"
        }
      ]
    },
    {
      "cell_type": "code",
      "metadata": {
        "id": "2K0tiC-WXloi"
      },
      "source": [
        "import matplotlib as plt\n",
        "import pandas as pd"
      ],
      "execution_count": 209,
      "outputs": []
    },
    {
      "cell_type": "code",
      "metadata": {
        "id": "85WxmGNGDcBY",
        "colab": {
          "base_uri": "https://localhost:8080/"
        },
        "outputId": "6c3894bf-cbee-40d3-bc3d-057aff9b9f99"
      },
      "source": [
        "#dataframe with columns clean-tweet and polarity named cleanTweet\n",
        "csv_file = pd.read_csv('cleaned_fintech_data.csv',engine='python',error_bad_lines=False)\n",
        "cleanTweet = csv_file[['clean_text','polarity']]"
      ],
      "execution_count": 210,
      "outputs": [
        {
          "output_type": "stream",
          "text": [
            "Skipping line 4143: unexpected end of data\n"
          ],
          "name": "stderr"
        }
      ]
    },
    {
      "cell_type": "code",
      "metadata": {
        "colab": {
          "base_uri": "https://localhost:8080/",
          "height": 424
        },
        "id": "0HxZjBwOX3Vh",
        "outputId": "934da7e2-d7f4-4445-837f-dc7f971d1e31"
      },
      "source": [
        "cleanTweet[:100]"
      ],
      "execution_count": 211,
      "outputs": [
        {
          "output_type": "execute_result",
          "data": {
            "text/html": [
              "<div>\n",
              "<style scoped>\n",
              "    .dataframe tbody tr th:only-of-type {\n",
              "        vertical-align: middle;\n",
              "    }\n",
              "\n",
              "    .dataframe tbody tr th {\n",
              "        vertical-align: top;\n",
              "    }\n",
              "\n",
              "    .dataframe thead th {\n",
              "        text-align: right;\n",
              "    }\n",
              "</style>\n",
              "<table border=\"1\" class=\"dataframe\">\n",
              "  <thead>\n",
              "    <tr style=\"text-align: right;\">\n",
              "      <th></th>\n",
              "      <th>clean_text</th>\n",
              "      <th>polarity</th>\n",
              "    </tr>\n",
              "  </thead>\n",
              "  <tbody>\n",
              "    <tr>\n",
              "      <th>0</th>\n",
              "      <td>Giving forth life becoming burden Kenya This m...</td>\n",
              "      <td>0.3194444444444445</td>\n",
              "    </tr>\n",
              "    <tr>\n",
              "      <th>1</th>\n",
              "      <td>Teenmaar crPanja crGabbarsingh cr Khaleja Kuda...</td>\n",
              "      <td>0.0</td>\n",
              "    </tr>\n",
              "    <tr>\n",
              "      <th>2</th>\n",
              "      <td>Rei chintu lo Vachina Ad Nizam ne lo kottaru f...</td>\n",
              "      <td>0.0</td>\n",
              "    </tr>\n",
              "    <tr>\n",
              "      <th>3</th>\n",
              "      <td>Today World Day Combat Restoring degraded land...</td>\n",
              "      <td>0.25</td>\n",
              "    </tr>\n",
              "    <tr>\n",
              "      <th>4</th>\n",
              "      <td>Hearing say 's confident vaccines delivered li...</td>\n",
              "      <td>0.5</td>\n",
              "    </tr>\n",
              "    <tr>\n",
              "      <th>...</th>\n",
              "      <td>...</td>\n",
              "      <td>...</td>\n",
              "    </tr>\n",
              "    <tr>\n",
              "      <th>95</th>\n",
              "      <td>First last warning .. Inkosari families joliki...</td>\n",
              "      <td>0.16666666666666666</td>\n",
              "    </tr>\n",
              "    <tr>\n",
              "      <th>96</th>\n",
              "      <td>Sln teaser trailer views amp trailer likes gt ...</td>\n",
              "      <td>0.0</td>\n",
              "    </tr>\n",
              "    <tr>\n",
              "      <th>97</th>\n",
              "      <td>LETTER inspired archetypal male Nat J. Dornan ...</td>\n",
              "      <td>0.0</td>\n",
              "    </tr>\n",
              "    <tr>\n",
              "      <th>98</th>\n",
              "      <td>`` I ask pays `` Andrew Neil challenges Rishi ...</td>\n",
              "      <td>0.0</td>\n",
              "    </tr>\n",
              "    <tr>\n",
              "      <th>99</th>\n",
              "      <td>Mana Hand ki unna fingers anny okela undavu .....</td>\n",
              "      <td>0.5083333333333333</td>\n",
              "    </tr>\n",
              "  </tbody>\n",
              "</table>\n",
              "<p>100 rows × 2 columns</p>\n",
              "</div>"
            ],
            "text/plain": [
              "                                           clean_text             polarity\n",
              "0   Giving forth life becoming burden Kenya This m...   0.3194444444444445\n",
              "1   Teenmaar crPanja crGabbarsingh cr Khaleja Kuda...                  0.0\n",
              "2   Rei chintu lo Vachina Ad Nizam ne lo kottaru f...                  0.0\n",
              "3   Today World Day Combat Restoring degraded land...                 0.25\n",
              "4   Hearing say 's confident vaccines delivered li...                  0.5\n",
              "..                                                ...                  ...\n",
              "95  First last warning .. Inkosari families joliki...  0.16666666666666666\n",
              "96  Sln teaser trailer views amp trailer likes gt ...                  0.0\n",
              "97  LETTER inspired archetypal male Nat J. Dornan ...                  0.0\n",
              "98  `` I ask pays `` Andrew Neil challenges Rishi ...                  0.0\n",
              "99  Mana Hand ki unna fingers anny okela undavu .....   0.5083333333333333\n",
              "\n",
              "[100 rows x 2 columns]"
            ]
          },
          "metadata": {
            "tags": []
          },
          "execution_count": 211
        }
      ]
    },
    {
      "cell_type": "code",
      "metadata": {
        "id": "ZiU1hHUkZ8Tw"
      },
      "source": [
        "# writing text_category function which return positive, neutral or negative\n",
        "def text_category(p)-> str:\n",
        "    if p > 0 :\n",
        "      return 'positive'\n",
        "    elif p < 0 :\n",
        "      return 'negative'\n",
        "    else:\n",
        "      return 'neutral'\n",
        "\n"
      ],
      "execution_count": 212,
      "outputs": []
    },
    {
      "cell_type": "code",
      "metadata": {
        "id": "U--wTSxSiELs"
      },
      "source": [
        "#change the polarity column to number from string\n",
        "cleanTweet_polarity_num = pd.to_numeric(cleanTweet['polarity'],errors='coerce')"
      ],
      "execution_count": 214,
      "outputs": []
    },
    {
      "cell_type": "code",
      "metadata": {
        "colab": {
          "base_uri": "https://localhost:8080/"
        },
        "id": "B7kVcEWLk3Xa",
        "outputId": "c861fda4-7095-4842-a8b8-cc4b857c671d"
      },
      "source": [
        "#displaying the converted polarity column\n",
        "cleanTweet_polarity_num[:10]"
      ],
      "execution_count": 215,
      "outputs": [
        {
          "output_type": "execute_result",
          "data": {
            "text/plain": [
              "0    0.319444\n",
              "1    0.000000\n",
              "2    0.000000\n",
              "3    0.250000\n",
              "4    0.500000\n",
              "5    0.000000\n",
              "6    0.250000\n",
              "7    0.000000\n",
              "8    0.000000\n",
              "9    0.285714\n",
              "Name: polarity, dtype: float64"
            ]
          },
          "metadata": {
            "tags": []
          },
          "execution_count": 215
        }
      ]
    },
    {
      "cell_type": "code",
      "metadata": {
        "colab": {
          "base_uri": "https://localhost:8080/"
        },
        "id": "IHxl4AyCc6qx",
        "outputId": "30fe762d-98d3-4cc9-ef4e-ce30ece2a71d"
      },
      "source": [
        "#applying text_category function on each element of the polarity column and assign it to column score\n",
        "cleanTweet['score'] = cleanTweet_polarity_num.apply(lambda row: text_category(row))\n",
        "\n"
      ],
      "execution_count": 216,
      "outputs": [
        {
          "output_type": "stream",
          "text": [
            "/usr/local/lib/python3.7/dist-packages/ipykernel_launcher.py:2: SettingWithCopyWarning: \n",
            "A value is trying to be set on a copy of a slice from a DataFrame.\n",
            "Try using .loc[row_indexer,col_indexer] = value instead\n",
            "\n",
            "See the caveats in the documentation: https://pandas.pydata.org/pandas-docs/stable/user_guide/indexing.html#returning-a-view-versus-a-copy\n",
            "  \n"
          ],
          "name": "stderr"
        }
      ]
    },
    {
      "cell_type": "code",
      "metadata": {
        "colab": {
          "base_uri": "https://localhost:8080/",
          "height": 424
        },
        "id": "Y-4aYcpbgb5D",
        "outputId": "499a84ab-d959-4519-ffa7-bb8dd2ec926a"
      },
      "source": [
        "#displaying elements from the cleanTweet dataframe with 3 columns\n",
        "cleanTweet.iloc[:100]"
      ],
      "execution_count": 217,
      "outputs": [
        {
          "output_type": "execute_result",
          "data": {
            "text/html": [
              "<div>\n",
              "<style scoped>\n",
              "    .dataframe tbody tr th:only-of-type {\n",
              "        vertical-align: middle;\n",
              "    }\n",
              "\n",
              "    .dataframe tbody tr th {\n",
              "        vertical-align: top;\n",
              "    }\n",
              "\n",
              "    .dataframe thead th {\n",
              "        text-align: right;\n",
              "    }\n",
              "</style>\n",
              "<table border=\"1\" class=\"dataframe\">\n",
              "  <thead>\n",
              "    <tr style=\"text-align: right;\">\n",
              "      <th></th>\n",
              "      <th>clean_text</th>\n",
              "      <th>polarity</th>\n",
              "      <th>score</th>\n",
              "    </tr>\n",
              "  </thead>\n",
              "  <tbody>\n",
              "    <tr>\n",
              "      <th>0</th>\n",
              "      <td>Giving forth life becoming burden Kenya This m...</td>\n",
              "      <td>0.3194444444444445</td>\n",
              "      <td>positive</td>\n",
              "    </tr>\n",
              "    <tr>\n",
              "      <th>1</th>\n",
              "      <td>Teenmaar crPanja crGabbarsingh cr Khaleja Kuda...</td>\n",
              "      <td>0.0</td>\n",
              "      <td>neutral</td>\n",
              "    </tr>\n",
              "    <tr>\n",
              "      <th>2</th>\n",
              "      <td>Rei chintu lo Vachina Ad Nizam ne lo kottaru f...</td>\n",
              "      <td>0.0</td>\n",
              "      <td>neutral</td>\n",
              "    </tr>\n",
              "    <tr>\n",
              "      <th>3</th>\n",
              "      <td>Today World Day Combat Restoring degraded land...</td>\n",
              "      <td>0.25</td>\n",
              "      <td>positive</td>\n",
              "    </tr>\n",
              "    <tr>\n",
              "      <th>4</th>\n",
              "      <td>Hearing say 's confident vaccines delivered li...</td>\n",
              "      <td>0.5</td>\n",
              "      <td>positive</td>\n",
              "    </tr>\n",
              "    <tr>\n",
              "      <th>...</th>\n",
              "      <td>...</td>\n",
              "      <td>...</td>\n",
              "      <td>...</td>\n",
              "    </tr>\n",
              "    <tr>\n",
              "      <th>95</th>\n",
              "      <td>First last warning .. Inkosari families joliki...</td>\n",
              "      <td>0.16666666666666666</td>\n",
              "      <td>positive</td>\n",
              "    </tr>\n",
              "    <tr>\n",
              "      <th>96</th>\n",
              "      <td>Sln teaser trailer views amp trailer likes gt ...</td>\n",
              "      <td>0.0</td>\n",
              "      <td>neutral</td>\n",
              "    </tr>\n",
              "    <tr>\n",
              "      <th>97</th>\n",
              "      <td>LETTER inspired archetypal male Nat J. Dornan ...</td>\n",
              "      <td>0.0</td>\n",
              "      <td>neutral</td>\n",
              "    </tr>\n",
              "    <tr>\n",
              "      <th>98</th>\n",
              "      <td>`` I ask pays `` Andrew Neil challenges Rishi ...</td>\n",
              "      <td>0.0</td>\n",
              "      <td>neutral</td>\n",
              "    </tr>\n",
              "    <tr>\n",
              "      <th>99</th>\n",
              "      <td>Mana Hand ki unna fingers anny okela undavu .....</td>\n",
              "      <td>0.5083333333333333</td>\n",
              "      <td>positive</td>\n",
              "    </tr>\n",
              "  </tbody>\n",
              "</table>\n",
              "<p>100 rows × 3 columns</p>\n",
              "</div>"
            ],
            "text/plain": [
              "                                           clean_text  ...     score\n",
              "0   Giving forth life becoming burden Kenya This m...  ...  positive\n",
              "1   Teenmaar crPanja crGabbarsingh cr Khaleja Kuda...  ...   neutral\n",
              "2   Rei chintu lo Vachina Ad Nizam ne lo kottaru f...  ...   neutral\n",
              "3   Today World Day Combat Restoring degraded land...  ...  positive\n",
              "4   Hearing say 's confident vaccines delivered li...  ...  positive\n",
              "..                                                ...  ...       ...\n",
              "95  First last warning .. Inkosari families joliki...  ...  positive\n",
              "96  Sln teaser trailer views amp trailer likes gt ...  ...   neutral\n",
              "97  LETTER inspired archetypal male Nat J. Dornan ...  ...   neutral\n",
              "98  `` I ask pays `` Andrew Neil challenges Rishi ...  ...   neutral\n",
              "99  Mana Hand ki unna fingers anny okela undavu .....  ...  positive\n",
              "\n",
              "[100 rows x 3 columns]"
            ]
          },
          "metadata": {
            "tags": []
          },
          "execution_count": 217
        }
      ]
    },
    {
      "cell_type": "code",
      "metadata": {
        "colab": {
          "base_uri": "https://localhost:8080/",
          "height": 357
        },
        "id": "N8aolXi7lOq7",
        "outputId": "b69c52d3-b8f6-4295-b088-960c78a4de6c"
      },
      "source": [
        "#Visualize The score column using piechart and barchart\n",
        "#piechart\n",
        "score_col = pd.Series(cleanTweet['score'].value_counts(), index=['positive','negative','neutral'], name=\"score\")\n",
        "score_col.plot.pie(figsize=(6, 6));"
      ],
      "execution_count": 218,
      "outputs": [
        {
          "output_type": "display_data",
          "data": {
            "image/png": "[encoded data removed]",
            "text/plain": [
              "<Figure size 432x432 with 1 Axes>"
            ]
          },
          "metadata": {
            "tags": []
          }
        }
      ]
    },
    {
      "cell_type": "code",
      "metadata": {
        "colab": {
          "base_uri": "https://localhost:8080/",
          "height": 408
        },
        "id": "0rOZ70CSEmgS",
        "outputId": "93f03b51-8a92-42c7-f049-7806d0b9a129"
      },
      "source": [
        "#barchart\n",
        "score_col.plot.bar(figsize=(6, 6));"
      ],
      "execution_count": 219,
      "outputs": [
        {
          "output_type": "display_data",
          "data": {
            "image/png": "[encoded data removed]",
            "text/plain": [
              "<Figure size 432x432 with 1 Axes>"
            ]
          },
          "metadata": {
            "tags": [],
            "needs_background": "light"
          }
        }
      ]
    },
    {
      "cell_type": "code",
      "metadata": {
        "id": "JQQQHSGkn-k8"
      },
      "source": [
        "#Remove rows from cleanTweet\n",
        "cleanTweet.drop(cleanTweet[cleanTweet['score'] =='neutral'].index, inplace = True)\n",
        "cleanTweet=cleanTweet.reset_index(drop=True)"
      ],
      "execution_count": 222,
      "outputs": []
    },
    {
      "cell_type": "code",
      "metadata": {
        "colab": {
          "base_uri": "https://localhost:8080/",
          "height": 424
        },
        "id": "u5a1z47KRAZa",
        "outputId": "18281575-d834-4702-9fce-3a120e1398f1"
      },
      "source": [
        "#displaying the dataframe after removing neutral rows from dataframe\n",
        "cleanTweet[:100]"
      ],
      "execution_count": 224,
      "outputs": [
        {
          "output_type": "execute_result",
          "data": {
            "text/html": [
              "<div>\n",
              "<style scoped>\n",
              "    .dataframe tbody tr th:only-of-type {\n",
              "        vertical-align: middle;\n",
              "    }\n",
              "\n",
              "    .dataframe tbody tr th {\n",
              "        vertical-align: top;\n",
              "    }\n",
              "\n",
              "    .dataframe thead th {\n",
              "        text-align: right;\n",
              "    }\n",
              "</style>\n",
              "<table border=\"1\" class=\"dataframe\">\n",
              "  <thead>\n",
              "    <tr style=\"text-align: right;\">\n",
              "      <th></th>\n",
              "      <th>clean_text</th>\n",
              "      <th>polarity</th>\n",
              "      <th>score</th>\n",
              "    </tr>\n",
              "  </thead>\n",
              "  <tbody>\n",
              "    <tr>\n",
              "      <th>0</th>\n",
              "      <td>Giving forth life becoming burden Kenya This m...</td>\n",
              "      <td>0.3194444444444445</td>\n",
              "      <td>positive</td>\n",
              "    </tr>\n",
              "    <tr>\n",
              "      <th>1</th>\n",
              "      <td>Today World Day Combat Restoring degraded land...</td>\n",
              "      <td>0.25</td>\n",
              "      <td>positive</td>\n",
              "    </tr>\n",
              "    <tr>\n",
              "      <th>2</th>\n",
              "      <td>Hearing say 's confident vaccines delivered li...</td>\n",
              "      <td>0.5</td>\n",
              "      <td>positive</td>\n",
              "    </tr>\n",
              "    <tr>\n",
              "      <th>3</th>\n",
              "      <td>Today World Day Combat Restoring degraded land...</td>\n",
              "      <td>0.25</td>\n",
              "      <td>positive</td>\n",
              "    </tr>\n",
              "    <tr>\n",
              "      <th>4</th>\n",
              "      <td>Austria `` right '' grid tariffs regulatory re...</td>\n",
              "      <td>0.2857142857142857</td>\n",
              "      <td>positive</td>\n",
              "    </tr>\n",
              "    <tr>\n",
              "      <th>...</th>\n",
              "      <td>...</td>\n",
              "      <td>...</td>\n",
              "      <td>...</td>\n",
              "    </tr>\n",
              "    <tr>\n",
              "      <th>95</th>\n",
              "      <td>Miru long run Lo AA/RC records pattukostaro da...</td>\n",
              "      <td>-0.05</td>\n",
              "      <td>negative</td>\n",
              "    </tr>\n",
              "    <tr>\n",
              "      <th>96</th>\n",
              "      <td>I sure people understand irony UK-AUS trade de...</td>\n",
              "      <td>0.5</td>\n",
              "      <td>positive</td>\n",
              "    </tr>\n",
              "    <tr>\n",
              "      <th>97</th>\n",
              "      <td>The mobile money dealers agents log consent US...</td>\n",
              "      <td>0.2857142857142857</td>\n",
              "      <td>positive</td>\n",
              "    </tr>\n",
              "    <tr>\n",
              "      <th>98</th>\n",
              "      <td>My dad sent Ghc1200 momo pay school fees Ghc10...</td>\n",
              "      <td>0.35</td>\n",
              "      <td>positive</td>\n",
              "    </tr>\n",
              "    <tr>\n",
              "      <th>99</th>\n",
              "      <td>Macam-macam bentuk selaput dara Elastisitas be...</td>\n",
              "      <td>0.5</td>\n",
              "      <td>positive</td>\n",
              "    </tr>\n",
              "  </tbody>\n",
              "</table>\n",
              "<p>100 rows × 3 columns</p>\n",
              "</div>"
            ],
            "text/plain": [
              "                                           clean_text  ...     score\n",
              "0   Giving forth life becoming burden Kenya This m...  ...  positive\n",
              "1   Today World Day Combat Restoring degraded land...  ...  positive\n",
              "2   Hearing say 's confident vaccines delivered li...  ...  positive\n",
              "3   Today World Day Combat Restoring degraded land...  ...  positive\n",
              "4   Austria `` right '' grid tariffs regulatory re...  ...  positive\n",
              "..                                                ...  ...       ...\n",
              "95  Miru long run Lo AA/RC records pattukostaro da...  ...  negative\n",
              "96  I sure people understand irony UK-AUS trade de...  ...  positive\n",
              "97  The mobile money dealers agents log consent US...  ...  positive\n",
              "98  My dad sent Ghc1200 momo pay school fees Ghc10...  ...  positive\n",
              "99  Macam-macam bentuk selaput dara Elastisitas be...  ...  positive\n",
              "\n",
              "[100 rows x 3 columns]"
            ]
          },
          "metadata": {
            "tags": []
          },
          "execution_count": 224
        }
      ]
    },
    {
      "cell_type": "code",
      "metadata": {
        "id": "ggdJ-dkAuDSb"
      },
      "source": [
        "# Construct a column scoremap on the score column\n",
        "score_series = cleanTweet['score'].map({'positive':1, 'negative':0})\n"
      ],
      "execution_count": 225,
      "outputs": []
    },
    {
      "cell_type": "code",
      "metadata": {
        "id": "byOtUri8O1B4"
      },
      "source": [
        "#Create feature and target variables (X,y) from clean-text and scoremap columns respectively.\n",
        "X = cleanTweet['clean_text'].tolist()\n",
        "y = score_series.tolist()\n"
      ],
      "execution_count": 228,
      "outputs": []
    },
    {
      "cell_type": "code",
      "metadata": {
        "id": "RGrhyw2ZO1Ex"
      },
      "source": [
        "# construct (X_train, y_train) and (X_test, y_test) from (X,y)\n",
        "from sklearn.model_selection import train_test_split\n",
        "X_train, X_test, y_train, y_test = train_test_split(X, y, test_size=0.4)  \n",
        "  "
      ],
      "execution_count": 229,
      "outputs": []
    },
    {
      "cell_type": "code",
      "metadata": {
        "colab": {
          "base_uri": "https://localhost:8080/"
        },
        "id": "sTQUXrp2O1Hn",
        "outputId": "549fb1ca-aa71-4fd9-9c5d-c01cf421bc89"
      },
      "source": [
        "# CountVectorizer() with a trigram parameter.\n",
        "from sklearn.feature_extraction.text import CountVectorizer, TfidfTransformer\n",
        "trigram_vect = CountVectorizer(ngram_range=(3, 3))\n",
        "trigram_vect.fit(X_train)"
      ],
      "execution_count": 230,
      "outputs": [
        {
          "output_type": "execute_result",
          "data": {
            "text/plain": [
              "CountVectorizer(analyzer='word', binary=False, decode_error='strict',\n",
              "                dtype=<class 'numpy.int64'>, encoding='utf-8', input='content',\n",
              "                lowercase=True, max_df=1.0, max_features=None, min_df=1,\n",
              "                ngram_range=(3, 3), preprocessor=None, stop_words=None,\n",
              "                strip_accents=None, token_pattern='(?u)\\\\b\\\\w\\\\w+\\\\b',\n",
              "                tokenizer=None, vocabulary=None)"
            ]
          },
          "metadata": {
            "tags": []
          },
          "execution_count": 230
        }
      ]
    },
    {
      "cell_type": "code",
      "metadata": {
        "colab": {
          "base_uri": "https://localhost:8080/"
        },
        "id": "x1obhFMPVVop",
        "outputId": "ed3596e9-9d6a-43bd-95ff-b5fcc1cf7018"
      },
      "source": [
        "# train data using SGD classifier\n",
        "from sklearn.linear_model import SGDClassifier\n",
        "\n",
        "X_train_trigram = trigram_vect.transform(X_train)\n",
        "X_test_trigram = trigram_vect.transform(X_test)\n",
        "clf = SGDClassifier()\n",
        "clf.fit(X_train_trigram, y_train)\n"
      ],
      "execution_count": 231,
      "outputs": [
        {
          "output_type": "execute_result",
          "data": {
            "text/plain": [
              "SGDClassifier(alpha=0.0001, average=False, class_weight=None,\n",
              "              early_stopping=False, epsilon=0.1, eta0=0.0, fit_intercept=True,\n",
              "              l1_ratio=0.15, learning_rate='optimal', loss='hinge',\n",
              "              max_iter=1000, n_iter_no_change=5, n_jobs=None, penalty='l2',\n",
              "              power_t=0.5, random_state=None, shuffle=True, tol=0.001,\n",
              "              validation_fraction=0.1, verbose=0, warm_start=False)"
            ]
          },
          "metadata": {
            "tags": []
          },
          "execution_count": 231
        }
      ]
    },
    {
      "cell_type": "code",
      "metadata": {
        "id": "T-pDMdvYazec"
      },
      "source": [
        "# predict using the trained model\n",
        "y_pred = clf.predict(X_test_trigram)"
      ],
      "execution_count": 232,
      "outputs": []
    },
    {
      "cell_type": "code",
      "metadata": {
        "colab": {
          "base_uri": "https://localhost:8080/"
        },
        "id": "deaXGXV4O1Ll",
        "outputId": "96f6331f-bc15-47c9-9641-2b18ea81599b"
      },
      "source": [
        "# Evaluate the model on the test data.\n",
        "train_score = clf.score(X_train_trigram, y_train)\n",
        "test_score = clf.score(X_test_trigram, y_test)\n",
        "print(\"Train score: \"+str(round(train_score, 2))+\" ; Validation score: \"+str(round(test_score, 2)))\n"
      ],
      "execution_count": 233,
      "outputs": [
        {
          "output_type": "stream",
          "text": [
            "Train score: 1.0 ; Validation score: 0.96\n"
          ],
          "name": "stdout"
        }
      ]
    },
    {
      "cell_type": "code",
      "metadata": {
        "colab": {
          "base_uri": "https://localhost:8080/"
        },
        "id": "JUSZNM8AaQgN",
        "outputId": "2d652dfd-812b-4807-ba29-3092b5823421"
      },
      "source": [
        "# Evaluate the model using precision, recall\n",
        "from sklearn.metrics import precision_score\n",
        "from sklearn.metrics import recall_score\n",
        "\n",
        "precision_score = precision_score(y_test, y_pred, average='weighted')\n",
        "recall_score = recall_score(y_test, y_pred, average='weighted')\n",
        "print(f'The precision score is {precision_score} and the recall score is {recall_score}')"
      ],
      "execution_count": 234,
      "outputs": [
        {
          "output_type": "stream",
          "text": [
            "The precision score is 0.9653886337682532 and the recall score is 0.9637254901960784\n"
          ],
          "name": "stdout"
        }
      ]
    },
    {
      "cell_type": "code",
      "metadata": {
        "id": "CAzU9HvTb4iE"
      },
      "source": [
        ""
      ],
      "execution_count": null,
      "outputs": []
    }
  ]
}